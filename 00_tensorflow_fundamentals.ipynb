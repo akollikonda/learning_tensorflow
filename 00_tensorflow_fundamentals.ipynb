{
  "nbformat": 4,
  "nbformat_minor": 0,
  "metadata": {
    "colab": {
      "provenance": []
    },
    "kernelspec": {
      "name": "python3",
      "display_name": "Python 3"
    },
    "language_info": {
      "name": "python"
    }
  },
  "cells": [
    {
      "cell_type": "markdown",
      "source": [
        "# In this Notebook we are going to learn fundamentals of tensor using Tensorflow\n",
        "\n",
        "We are going to cover\n",
        "\n",
        "* Intro to Tensor\n",
        "* Getting info from tensors\n",
        "* Manipulating Tensors\n",
        "* Tensors and Numpy\n",
        "* USing @tf.function (way to speed up regular functions)\n",
        "* Using GPU with Tensorflow\n",
        "* Excercises to try"
      ],
      "metadata": {
        "id": "w7NYSbxdCHHO"
      }
    },
    {
      "cell_type": "markdown",
      "source": [
        "## Introduction to Tensors"
      ],
      "metadata": {
        "id": "p7kCuLAQCXXn"
      }
    },
    {
      "cell_type": "code",
      "source": [
        "# Import TEnsorFlow\n",
        "\n",
        "import tensorflow as tf\n",
        "\n",
        "print(tf.__version__)"
      ],
      "metadata": {
        "colab": {
          "base_uri": "https://localhost:8080/"
        },
        "id": "PtA6rnSeyN_P",
        "outputId": "53ebd35c-8610-48b6-b34d-fd81822be6c3"
      },
      "execution_count": 1,
      "outputs": [
        {
          "output_type": "stream",
          "name": "stdout",
          "text": [
            "2.12.0\n"
          ]
        }
      ]
    },
    {
      "cell_type": "code",
      "source": [],
      "metadata": {
        "id": "wtEmB-85yONS"
      },
      "execution_count": null,
      "outputs": []
    },
    {
      "cell_type": "code",
      "source": [],
      "metadata": {
        "id": "T2KjrQEEyOQK"
      },
      "execution_count": null,
      "outputs": []
    },
    {
      "cell_type": "code",
      "source": [],
      "metadata": {
        "id": "l03f2D_VyOSv"
      },
      "execution_count": null,
      "outputs": []
    },
    {
      "cell_type": "code",
      "source": [],
      "metadata": {
        "id": "vea7o3PbyOVo"
      },
      "execution_count": null,
      "outputs": []
    },
    {
      "cell_type": "code",
      "source": [],
      "metadata": {
        "id": "WedpbZNbyOYh"
      },
      "execution_count": null,
      "outputs": []
    },
    {
      "cell_type": "code",
      "source": [],
      "metadata": {
        "id": "d9wnQzt-yObo"
      },
      "execution_count": null,
      "outputs": []
    },
    {
      "cell_type": "markdown",
      "source": [],
      "metadata": {
        "id": "7PblHsR9CWo0"
      }
    }
  ]
}